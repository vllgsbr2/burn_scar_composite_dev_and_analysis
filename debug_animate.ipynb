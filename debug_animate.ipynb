{
 "cells": [
  {
   "cell_type": "code",
   "execution_count": 8,
   "id": "83885c1b",
   "metadata": {},
   "outputs": [
    {
     "name": "stdout",
     "output_type": "stream",
     "text": [
      "0 pass\n",
      "001/64 2021233.1930_08.21.2021 composite updated\n"
     ]
    },
    {
     "name": "stderr",
     "output_type": "stream",
     "text": [
      "Clipping input data to the valid range for imshow with RGB data ([0..1] for floats or [0..255] for integers).\n"
     ]
    },
    {
     "name": "stdout",
     "output_type": "stream",
     "text": [
      "plotting 001/64 2021233.1930_08.21.2021 composite updated\n",
      "002/64 2021233.2106_08.21.2021 composite updated\n"
     ]
    },
    {
     "name": "stderr",
     "output_type": "stream",
     "text": [
      "Clipping input data to the valid range for imshow with RGB data ([0..1] for floats or [0..255] for integers).\n"
     ]
    },
    {
     "name": "stdout",
     "output_type": "stream",
     "text": [
      "plotting 002/64 2021233.2106_08.21.2021 composite updated\n",
      "003/64 2021233.2112_08.21.2021 composite updated\n"
     ]
    },
    {
     "name": "stderr",
     "output_type": "stream",
     "text": [
      "Clipping input data to the valid range for imshow with RGB data ([0..1] for floats or [0..255] for integers).\n"
     ]
    },
    {
     "name": "stdout",
     "output_type": "stream",
     "text": [
      "plotting 003/64 2021233.2112_08.21.2021 composite updated\n",
      "4 pass\n",
      "005/64 2021234.1912_08.22.2021 composite updated\n"
     ]
    },
    {
     "name": "stderr",
     "output_type": "stream",
     "text": [
      "Clipping input data to the valid range for imshow with RGB data ([0..1] for floats or [0..255] for integers).\n"
     ]
    },
    {
     "name": "stdout",
     "output_type": "stream",
     "text": [
      "plotting 005/64 2021234.1912_08.22.2021 composite updated\n",
      "006/64 2021234.2048_08.22.2021 composite updated\n"
     ]
    },
    {
     "name": "stderr",
     "output_type": "stream",
     "text": [
      "Clipping input data to the valid range for imshow with RGB data ([0..1] for floats or [0..255] for integers).\n"
     ]
    },
    {
     "name": "stdout",
     "output_type": "stream",
     "text": [
      "plotting 006/64 2021234.2048_08.22.2021 composite updated\n",
      "007/64 2021234.2054_08.22.2021 composite updated\n"
     ]
    },
    {
     "name": "stderr",
     "output_type": "stream",
     "text": [
      "Clipping input data to the valid range for imshow with RGB data ([0..1] for floats or [0..255] for integers).\n"
     ]
    },
    {
     "name": "stdout",
     "output_type": "stream",
     "text": [
      "plotting 007/64 2021234.2054_08.22.2021 composite updated\n",
      "8 pass\n",
      "9 pass\n",
      "10 pass\n",
      "11 pass\n",
      "012/64 2021235.2030_08.23.2021 composite updated\n",
      "13 pass\n",
      "14 pass\n",
      "15 pass\n",
      "16 pass\n",
      "17 pass\n",
      "18 pass\n",
      "19 pass\n",
      "020/64 2021236.2012_08.24.2021 composite updated\n",
      "21 pass\n",
      "22 pass\n",
      "023/64 2021236.2154_08.24.2021 composite updated\n",
      "24 pass\n",
      "25 pass\n",
      "26 pass\n",
      "27 pass\n",
      "28 pass\n",
      "029/64 2021237.1954_08.25.2021 composite updated\n",
      "030/64 2021237.2130_08.25.2021 composite updated\n",
      "031/64 2021237.2136_08.25.2021 composite updated\n",
      "32 pass\n",
      "033/64 2021238.1936_08.26.2021 composite updated\n",
      "034/64 2021238.2112_08.26.2021 composite updated\n",
      "035/64 2021238.2118_08.26.2021 composite updated\n",
      "36 pass\n",
      "037/64 2021239.1918_08.27.2021 composite updated\n",
      "038/64 2021239.2054_08.27.2021 composite updated\n",
      "039/64 2021239.2100_08.27.2021 composite updated\n",
      "40 pass\n",
      "041/64 2021240.1900_08.28.2021 composite updated\n",
      "042/64 2021240.2036_08.28.2021 composite updated\n",
      "043/64 2021240.2042_08.28.2021 composite updated\n",
      "44 pass\n",
      "45 pass\n",
      "46 pass\n",
      "47 pass\n",
      "48 pass\n",
      "049/64 2021241.2018_08.29.2021 composite updated\n",
      "50 pass\n",
      "051/64 2021241.2200_08.29.2021 composite updated\n",
      "52 pass\n",
      "53 pass\n",
      "54 pass\n",
      "55 pass\n",
      "56 pass\n",
      "57 pass\n",
      "058/64 2021242.2000_08.30.2021 composite updated\n",
      "59 pass\n",
      "60 pass\n",
      "061/64 2021242.2142_08.30.2021 composite updated\n",
      "62 pass\n",
      "063/64 2021243.1942_08.31.2021 composite updated\n",
      "064/64 2021243.2118_08.31.2021 composite updated\n"
     ]
    },
    {
     "name": "stderr",
     "output_type": "stream",
     "text": [
      "Clipping input data to the valid range for imshow with RGB data ([0..1] for floats or [0..255] for integers).\n"
     ]
    },
    {
     "name": "stdout",
     "output_type": "stream",
     "text": [
      "plotting 064/64 2021243.2118_08.31.2021 composite updated\n",
      "065/64 2021243.2124_08.31.2021 composite updated\n"
     ]
    },
    {
     "name": "stderr",
     "output_type": "stream",
     "text": [
      "Clipping input data to the valid range for imshow with RGB data ([0..1] for floats or [0..255] for integers).\n"
     ]
    },
    {
     "name": "stdout",
     "output_type": "stream",
     "text": [
      "plotting 065/64 2021243.2124_08.31.2021 composite updated\n",
      "66 pass\n"
     ]
    }
   ],
   "source": [
    "import numpy as np\n",
    "import matplotlib.pyplot as plt\n",
    "import matplotlib.colors as matCol\n",
    "from matplotlib.colors import ListedColormap\n",
    "import os\n",
    "import sys\n",
    "import h5py\n",
    "import time\n",
    "%matplotlib qt\n",
    "\n",
    "import warnings\n",
    "warnings.filterwarnings(\"ignore\")\n",
    "\n",
    "#calculate fields to plot\n",
    "home = 'R:/satellite_data/viirs_data/noaa20/'\n",
    "# hf_composite_database = h5py.File(home+'databases/composite_database.h5','a')\n",
    "\n",
    "\n",
    "with h5py.File(home+'databases/VIIRS_burn_Scar_database.h5','r') as hf_database:\n",
    "    timestamps = list(hf_database.keys())\n",
    "    dataset_names = list(hf_database[timestamps[0]].keys())\n",
    "\n",
    "    #stack composites here, where latest pixel overwrites all other\n",
    "    #the oldest pixel should be no more than n days old (start w/8 days)\n",
    "    #note a granbule does not eqaul a day, i.e. there is over lap, so use\n",
    "    #time and day to decide which granule is newer in order to overwrite.\n",
    "    #empty/ non valid pixels should be auto overwritten, i.e. np.nan or x<=-997\n",
    "    #work backwords from newest\n",
    "    #once it works try again but cloud and water clear with -998, -997 repectively\n",
    "    base_image_shape           = (3604, 2354, 3)\n",
    "    composite_burn_scar_RGB    = np.empty(base_image_shape)\n",
    "    composite_burn_scar_RGB[:] = np.nan\n",
    "    \n",
    "    start, end = -68, -1#*n_days\n",
    "    for i, timestamp in enumerate(timestamps[start:end]):\n",
    "        dataset_dict = {}\n",
    "        for dataset_name in dataset_names:\n",
    "            dataset_dict[dataset_name] = hf_database[timestamp+'/'+dataset_name][:]\n",
    "\n",
    "        r_row_idx    = dataset_dict['regrid_row_idx']\n",
    "        if np.count_nonzero(r_row_idx == -999)/len(r_row_idx.flatten()) < 0.8:\n",
    "            pass\n",
    "        else:\n",
    "            print(i, 'pass')\n",
    "            continue\n",
    "        r_col_idx    = dataset_dict['regrid_col_idx']\n",
    "        fill_val_idx = dataset_dict['fill_val_idx']\n",
    "\n",
    "        # NBR           = dataset_dict['NBR'          ][r_row_idx, r_col_idx]\n",
    "        # BRF_RGB       = dataset_dict['BRF_RGB'      ][r_row_idx, r_col_idx]\n",
    "        cldmsk          = dataset_dict['cldmsk'       ][r_row_idx, r_col_idx]\n",
    "        burn_scar_RGB   = dataset_dict['burn_scar_RGB'][r_row_idx, r_col_idx]\n",
    "        land_water_mask = dataset_dict['land_water_mask'][r_row_idx, r_col_idx]\n",
    "        # lat_regrid    = dataset_dict['lat'][r_row_idx, r_col_idx]\n",
    "        # lon_regrid    = dataset_dict['lon'][r_row_idx, r_col_idx]\n",
    "        # R_M7, R_M11 = burn_scar_RGB[:,:,1], burn_scar_RGB[:,:,0]\n",
    "        # burn_scar_composite = get_burn_scar_composite(R_M7, R_M11, geotiff=False)\n",
    "\n",
    "\n",
    "        # NBR[fill_val_idx[0], fill_val_idx[1]]           = np.nan\n",
    "        # BRF_RGB[fill_val_idx[0], fill_val_idx[1]]       = np.nan\n",
    "        cldmsk[fill_val_idx[0], fill_val_idx[1]]        = np.nan\n",
    "        burn_scar_RGB[fill_val_idx[0], fill_val_idx[1],:] = np.nan\n",
    "        # lat_regrid[fill_val_idx[0], fill_val_idx[1]]    = np.nan\n",
    "        # lon_regrid[fill_val_idx[0], fill_val_idx[1]]    = np.nan\n",
    "\n",
    "        # NBR[NBR<=-997]           = np.nan\n",
    "        # BRF_RGB[BRF_RGB<=-997]       = np.nan\n",
    "        # cldmsk[cldmsk<=-997]        = np.nan\n",
    "        burn_scar_RGB[burn_scar_RGB==-999] = np.nan\n",
    "\n",
    "        #cloud and water clear\n",
    "        burn_scar_RGB[cldmsk < 2] = np.nan #noise from probably clear, may mask it out\n",
    "        #the probably cloudy is important to keep other wise lose alot to smoke maybe\n",
    "        burn_scar_RGB[land_water_mask == 0] = np.nan #just take out water (from cloud mask file)\n",
    "\n",
    "        #combine data by populating nan with cloud free water free data from latest granule\n",
    "        unpopulated_composite_idx = np.where(np.isnan(composite_burn_scar_RGB))\n",
    "        unpopulated_current_idx   = np.where(np.isnan(burn_scar_RGB))\n",
    "        temp_composite            = np.copy(composite_burn_scar_RGB)\n",
    "        composite_burn_scar_RGB[unpopulated_composite_idx[0], unpopulated_composite_idx[1],:] = \\\n",
    "                             burn_scar_RGB[unpopulated_composite_idx[0], unpopulated_composite_idx[1],:]\n",
    "\n",
    "        #restore composite pixels overwritten by nan and fill vals -997 to -999\n",
    "        composite_burn_scar_RGB[unpopulated_current_idx[0], unpopulated_current_idx[1], :] = \\\n",
    "                                        temp_composite[unpopulated_current_idx[0], unpopulated_current_idx[1], :]\n",
    "        print('{:03d}/64 {} composite updated'.format(i, timestamp))\n",
    "        \n",
    "        if i%64<8:\n",
    "            plt.figure(figsize=(10,15))\n",
    "            plt.imshow(composite_burn_scar_RGB)\n",
    "            plt.draw()\n",
    "            print('plotting {:03d}/64 {} composite updated'.format(i, timestamp))\n",
    "#         plt.pause(5)\n",
    "            \n"
   ]
  },
  {
   "cell_type": "code",
   "execution_count": null,
   "id": "4e84ab91",
   "metadata": {},
   "outputs": [],
   "source": [
    "#         #check if 8 days has been recorded first, which is 64 files\n",
    "#         if i>=64:\n",
    "#             #then record the composite as it updates every day, which is 8 files into the database\n",
    "#             if i%8==0:\n",
    "#                 R_M7, R_M11 = np.copy(composite_burn_scar_RGB[:,:,1]), np.copy(composite_burn_scar_RGB[:,:,0])\n",
    "#                 NBR_composite = (R_M11-R_M7)/(R_M11+R_M7)\n",
    "\n",
    "#                 bad_val = np.nan\n",
    "#         #         R_M11_ = ndimage.gaussian_filter(R_M11, sigma=1)\n",
    "#                 R_M11_ = R_M11\n",
    "#                 R_M11_[R_M7  > 0.2]  = bad_val #for clear no smoke only\n",
    "#                 R_M11_[R_M7 < 0.0281] = bad_val\n",
    "#                 R_M11_[R_M11 < 0.06]  = bad_val\n",
    "#                 # R_M11[R_M11 > 0.3]   = bad_val\n",
    "\n",
    "#                 composite_burn_scar_thresh = R_M11_\n",
    "#                 NBR_composite[np.isnan(composite_burn_scar_thresh)] = np.nan\n",
    "\n",
    "#                 #############################################################\n",
    "#                 #plot\n",
    "#                 %matplotlib qt\n",
    "#                 rows, cols, colors = base_image_shape \n",
    "#                 X,Y = np.meshgrid(np.arange(cols), np.arange(rows))\n",
    "#                 plt.style.use('dark_background')\n",
    "#                 f, ax = plt.subplots(ncols=3, sharex=True, sharey=True, figsize=(24,13))\n",
    "#                 # im = plt.imshow(composite_burn_scar_RGB[:,:,1], cmap='jet',vmin=0.0281, vmax=0.1346)\n",
    "#                 # im.cmap.set_over('grey')\n",
    "#                 # im.cmap.set_under('cyan')\n",
    "#                 im = ax[0].imshow(composite_burn_scar_RGB)\n",
    "#                 ax[1].imshow(composite_burn_scar_RGB)\n",
    "#                 # ax[1].imshow(composite_burn_scar_thresh, cmap='jet', vmax=0.22)\n",
    "#                 ax[1].imshow(NBR_composite, cmap='jet', vmax=0.25)\n",
    "#                 # ax[1].contourf(X,Y,composite_burn_scar_thresh, levels=40, cmap='jet')\n",
    "#                 ax[2].imshow(2*composite_burn_scar_RGB)\n",
    "#                 for a in ax.flat:\n",
    "#                     a.set_xticks([])\n",
    "#                     a.set_yticks([])\n",
    "#                 f.suptitle(timestamps[i][-10:], fontsize=24)\n",
    "#                 plt.tight_layout()\n",
    "# #                 plt.savefig(home+'databases/'+timestamps[i]+'.jpg')\n",
    "#                 plt.show()\n",
    "#                 try:\n",
    "#                     hf_composite_database.create_dataset(timestamp, data=composite_burn_scar_RGB, compression='gzip')\n",
    "#                     print('{:03d}/604 {} composite recorded'.format(i, timestamp))\n",
    "#                 except:\n",
    "#                     hf_composite_database[timestamp][:] = composite_burn_scar_RGB\n",
    "#                     print('{:03d}/604 {} composite updated'.format(i, timestamp))\n",
    "                \n",
    "\n",
    "# hf_composite_database.close()"
   ]
  },
  {
   "cell_type": "code",
   "execution_count": null,
   "id": "1fd42055",
   "metadata": {},
   "outputs": [],
   "source": [
    "from scipy import ndimage\n",
    "import matplotlib.pyplot as plt\n",
    "%matplotlib qt\n",
    "\n",
    "with h5py.File(home+'databases/VIIRS_burn_Scar_database.h5','r') as hf_composite_database:\n",
    "    timestamps = list(hf_composite_database.keys())#[-30:-1]\n",
    "    t_temp = [int(x[8:12]) for x in timestamps]\n",
    "    print(np.sort(t_temp))\n",
    "    plt.hist(t_temp)\n",
    "    plt.show()\n",
    "#     for i in range(len(timestamps)):\n",
    "#         pass\n",
    "#         composite_burn_scar_RGB = hf_composite_database[timestamps[i]][:]\n",
    "        \n",
    "\n",
    "#     R_M7, R_M11 = np.copy(composite_burn_scar_RGB[:,:,1]), np.copy(composite_burn_scar_RGB[:,:,0])\n",
    "#     NBR_composite = (R_M11-R_M7)/(R_M11+R_M7)\n",
    "\n",
    "#     bad_val = 0\n",
    "# #         R_M11_ = ndimage.gaussian_filter(R_M11, sigma=1)\n",
    "#     R_M11[R_M7  > 0.1346] = bad_val #for clear no smoke only\n",
    "#     R_M11[R_M7  < 0.0281] = bad_val\n",
    "\n",
    "#     composite_burn_scar_thresh = R_M11\n",
    "#     composite_burn_scar_thresh = ndimage.gaussian_filter(composite_burn_scar_thresh, sigma=3)\n",
    "#     composite_burn_scar_thresh[composite_burn_scar_thresh<0.01]=np.nan\n",
    "\n",
    "#     NBR_composite[np.isnan(composite_burn_scar_thresh)] = np.nan\n",
    "#     NBR_composite[composite_burn_scar_thresh<=0] = np.nan\n",
    "\n",
    "#     #############################################################\n",
    "#     #plot\n",
    "#     %matplotlib qt\n",
    "#     rows, cols, colors = base_image_shape \n",
    "#     X,Y = np.meshgrid(np.arange(cols), np.arange(rows))\n",
    "#     plt.style.use('dark_background')\n",
    "#     f, ax = plt.subplots(ncols=3, sharex=True, sharey=True, figsize=(24,13))\n",
    "#     # im = plt.imshow(composite_burn_scar_RGB[:,:,1], cmap='jet',vmin=0.0281, vmax=0.1346)\n",
    "#     # im.cmap.set_over('grey')\n",
    "#     # im.cmap.set_under('cyan')\n",
    "#     im = ax[0].imshow(composite_burn_scar_RGB)\n",
    "#     ax[1].imshow(composite_burn_scar_RGB)\n",
    "#     # ax[1].imshow(composite_burn_scar_thresh, cmap='jet', vmax=0.22)\n",
    "#     ax[1].imshow(NBR_composite, cmap='gist_ncar', vmax=0.5)\n",
    "#     # ax[1].contourf(X,Y,composite_burn_scar_thresh, levels=40, cmap='jet')\n",
    "#     ax[2].imshow(2*composite_burn_scar_RGB)\n",
    "#     for a in ax.flat:\n",
    "#         a.set_xticks([])\n",
    "#         a.set_yticks([])\n",
    "# #     f.suptitle(timestamps[i][-10:], fontsize=24)\n",
    "#     f.suptitle('09.01.2021', fontsize=24)\n",
    "#     plt.tight_layout()\n",
    "# #         plt.savefig(home+'databases/'+timestamps[i]+'.jpg')\n",
    "#     plt.show()\n",
    "# #         break\n",
    "#         # plt.close()"
   ]
  },
  {
   "cell_type": "code",
   "execution_count": null,
   "id": "01d2cf5e",
   "metadata": {},
   "outputs": [],
   "source": [
    "%matplotlib qt\n",
    "rows, cols, colors = base_image_shape \n",
    "X,Y = np.meshgrid(np.arange(cols), np.arange(rows))\n",
    "plt.style.use('dark_background')\n",
    "f, ax = plt.subplots(ncols=2, sharex=True, sharey=True, figsize=(24,13))\n",
    "# im = plt.imshow(composite_burn_scar_RGB[:,:,1], cmap='jet',vmin=0.0281, vmax=0.1346)\n",
    "# im.cmap.set_over('grey')\n",
    "# im.cmap.set_under('cyan')\n",
    "im = ax[0].imshow(2*composite_burn_scar_RGB)\n",
    "ax[1].imshow(composite_burn_scar_RGB)\n",
    "# ax[1].imshow(composite_burn_scar_thresh, cmap='jet', vmax=0.22)\n",
    "ax[1].imshow(NBR_composite, cmap='jet', vmax=0.25)\n",
    "# ax[1].contourf(X,Y,composite_burn_scar_thresh, levels=40, cmap='jet')\n",
    "# ax[2].imshow(2*composite_burn_scar_RGB)\n",
    "for a in ax.flat:\n",
    "    a.set_xticks([])\n",
    "    a.set_yticks([])\n",
    "plt.tight_layout()\n",
    "plt.show()\n",
    "# plt.close()"
   ]
  }
 ],
 "metadata": {
  "kernelspec": {
   "display_name": "Python 3",
   "language": "python",
   "name": "python3"
  },
  "language_info": {
   "codemirror_mode": {
    "name": "ipython",
    "version": 3
   },
   "file_extension": ".py",
   "mimetype": "text/x-python",
   "name": "python",
   "nbconvert_exporter": "python",
   "pygments_lexer": "ipython3",
   "version": "3.8.8"
  }
 },
 "nbformat": 4,
 "nbformat_minor": 5
}
